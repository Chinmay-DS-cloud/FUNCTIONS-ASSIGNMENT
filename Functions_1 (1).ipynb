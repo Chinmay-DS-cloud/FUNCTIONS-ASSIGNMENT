{
  "nbformat": 4,
  "nbformat_minor": 0,
  "metadata": {
    "colab": {
      "provenance": []
    },
    "kernelspec": {
      "name": "python3",
      "display_name": "Python 3"
    },
    "language_info": {
      "name": "python"
    }
  },
  "cells": [
    {
      "cell_type": "markdown",
      "source": [
        "# **Theory Questions:**"
      ],
      "metadata": {
        "id": "gsLHVZu6WvVb"
      }
    },
    {
      "cell_type": "markdown",
      "source": [
        "Q.1. What is the difference between a function and a method in Python?\n",
        "\n",
        "Ans:\n",
        "\n",
        "- Function: A function is an independent block of code that performs a specific task and can be called anywhere in the program.\n",
        "- Method: A method is a function that belongs to an object and is called on that object."
      ],
      "metadata": {
        "id": "rakmBBAMzpFZ"
      }
    },
    {
      "cell_type": "code",
      "source": [
        "#exampple of function\n",
        "def add(a, b):\n",
        "    return a + b\n",
        "print(add(2, 3))  # Output: 5"
      ],
      "metadata": {
        "id": "TJLbbr0O55p_"
      },
      "execution_count": null,
      "outputs": []
    },
    {
      "cell_type": "code",
      "source": [
        "#example of method\n",
        "class Sample:\n",
        "    def greet(self):\n",
        "        return \"Hello!\"\n",
        "obj = Sample()\n",
        "print(obj.greet())  # Output: Hello!"
      ],
      "metadata": {
        "id": "H_0Phrl36Dzy"
      },
      "execution_count": null,
      "outputs": []
    },
    {
      "cell_type": "markdown",
      "source": [
        "Q.2. Explain the concept of function arguments and parameters in Python.\n",
        "\n",
        "Ans:\n",
        "   - Parameters are variables that are defined in the function signature.\n",
        "   - Arguments are actual values passed to the function when calling it."
      ],
      "metadata": {
        "id": "bgRry0A96RYY"
      }
    },
    {
      "cell_type": "code",
      "source": [
        "#example\n",
        "def greet(name):  # 'name' is a parameter\n",
        "    return \"Hello, \" + name\n",
        "print(greet(\"Alice\"))  # 'Alice' is an argument"
      ],
      "metadata": {
        "id": "LMldUbW46n3D"
      },
      "execution_count": null,
      "outputs": []
    },
    {
      "cell_type": "markdown",
      "source": [
        "Q.3. What are the different ways to define and call a function in Python?\n",
        "\n",
        "Ans:\n",
        "   - 1. Standard Function Definition and Call:\n",
        "    A function is defined using the def keyword and called using its name with parentheses.\n",
        "   - 2. Function with Default Arguments:\n",
        "    You can assign default values to parameters.\n",
        "   - 3. Function with Variable-Length Arguments (*args and **kwargs):\n",
        "    *args: Accepts multiple positional arguments as a tuple.\n",
        "\n",
        "    **kwargs: Accepts multiple keyword arguments as a dictionary.\n",
        "   -4. Lambda (Anonymous) Functions:\n",
        "    Lambda functions are one-liners without a def keyword.\n",
        "   -5. Function as an Argument:\n",
        "    Functions can be passed as arguments to other functions.\n",
        "   -6. Recursive Function:\n",
        "    A function that calls itself.\n",
        "   -7. Calling a Function with map():  \n",
        "    The map() function applies a function to each element in an iterable.\n",
        "   -8. Calling a Function with filter():\n",
        "    The filter() function selects elements that meet a condition.\n",
        "   -9. Calling a Function with reduce():\n",
        "    The reduce() function applies a function cumulatively."
      ],
      "metadata": {
        "id": "kl70ABCQ8PQt"
      }
    },
    {
      "cell_type": "markdown",
      "source": [
        "Q.4. What is the purpose of the return statement in a Python function?\n",
        "\n",
        "Ans:\n",
        "\n",
        "  - The return statement is used to send back a result from a function to the caller."
      ],
      "metadata": {
        "id": "RxCISADuEsNT"
      }
    },
    {
      "cell_type": "code",
      "source": [
        "#example of return statement\n",
        "def add(a, b):\n",
        "    return a + b\n",
        "result = add(5, 10)\n",
        "print(result)  # Output: 15"
      ],
      "metadata": {
        "id": "iuwg1RAoF1tM"
      },
      "execution_count": null,
      "outputs": []
    },
    {
      "cell_type": "markdown",
      "source": [
        "Q.5. What are iterators in Python and how do they differ from iterables?\n",
        "\n",
        "Ans:\n",
        "  - Iterable: Any object capable of returning its elements one at a time (e.g., lists, tuples).\n",
        "\n",
        "  - Iterator: An object with __iter__() and __next__() methods, which produces values one at a time."
      ],
      "metadata": {
        "id": "3CR534A0GR8s"
      }
    },
    {
      "cell_type": "code",
      "source": [
        "#example\n",
        "iterator = iter(my_list)  # Convert list into an iterator\n",
        "print(next(iterator))  # Output: 1"
      ],
      "metadata": {
        "id": "LQYKhVP4G5jB"
      },
      "execution_count": null,
      "outputs": []
    },
    {
      "cell_type": "markdown",
      "source": [
        "Q.6. Explain the concept of generators in Python and how they are defined.\n",
        "\n",
        "Ans:\n",
        "  - Generators are special iterators that use yield to produce values lazily."
      ],
      "metadata": {
        "id": "oT4y8UIlHQMs"
      }
    },
    {
      "cell_type": "code",
      "source": [
        "#example of generator\n",
        "def my_generator():\n",
        "    yield 1\n",
        "    yield 2\n",
        "    yield 3\n",
        "gen = my_generator()\n",
        "print(next(gen))  # Output: 1"
      ],
      "metadata": {
        "id": "2gLYteoXH2Ux"
      },
      "execution_count": null,
      "outputs": []
    },
    {
      "cell_type": "markdown",
      "source": [
        "Q.7. What are the advantages of using generators over regular functions?\n",
        "\n",
        "Ans:\n",
        "  - Memory Efficient: They do not store all values in memory.\n",
        "  -Faster Execution: Values are generated only when needed.\n",
        "  -Simplified Code: yield replaces complex iterator implementations."
      ],
      "metadata": {
        "id": "UGF-yDfRH-C0"
      }
    },
    {
      "cell_type": "markdown",
      "source": [
        "Q.8. What is a lambda function in Python and when is it typically used?\n",
        "\n",
        "Ans:\n",
        "\n",
        "  - A lambda function is an anonymous, inline function. It is often used with map(), filter(), and reduce().\n",
        "\n"
      ],
      "metadata": {
        "id": "Wl_C1Qi8IhUp"
      }
    },
    {
      "cell_type": "code",
      "source": [
        "#example of lambda function\n",
        "square = lambda x: x * x\n",
        "print(square(5))  # Output: 25"
      ],
      "metadata": {
        "id": "FOxeDDiWH7wI"
      },
      "execution_count": null,
      "outputs": []
    },
    {
      "cell_type": "markdown",
      "source": [
        "Q.9. Explain the purpose and usage of the map() function in Python.\n",
        "\n",
        "Ans:\n",
        "  - The map() function applies a function to all items in an iterable."
      ],
      "metadata": {
        "id": "zlFxwpz_JXQv"
      }
    },
    {
      "cell_type": "code",
      "source": [
        "#example of map() function\n",
        "numbers = [1, 2, 3, 4]\n",
        "squared = list(map(lambda x: x * x, numbers))\n",
        "print(squared)  # Output: [1, 4, 9, 16]"
      ],
      "metadata": {
        "id": "H67564WLKJMj"
      },
      "execution_count": null,
      "outputs": []
    },
    {
      "cell_type": "markdown",
      "source": [
        "Q.10. What is the difference between map(), reduce(), and filter() functions in Python?\n",
        "\n",
        "Ans:\n",
        "  - map():\tApplies a function to all elements in an iterable.\n",
        "\n",
        "  - filter():\tFilters elements based on a condition.\n",
        "\n",
        "  - reduce():\tApplies a function cumulatively to elements."
      ],
      "metadata": {
        "id": "npHvpQCVKf3j"
      }
    },
    {
      "cell_type": "markdown",
      "source": [
        "Q.11. Using pen & Paper write the internal mechanism for sum operation using  reduce function on this given\n",
        "list:[47,11,42,13]\n",
        "\n",
        "Ans:\n",
        "[pen and paper written code.](https://drive.google.com/file/d/1nDLD-k6fWoNf_NXUAV9gamzMhyTyW3nj/view?usp=sharing)"
      ],
      "metadata": {
        "id": "LPv3vSCbLR4Z"
      }
    },
    {
      "cell_type": "markdown",
      "source": [
        "# **Practical Questions:**"
      ],
      "metadata": {
        "id": "Qe3glXtHWhcO"
      }
    },
    {
      "cell_type": "code",
      "source": [
        "# 1. Write a Python function that takes a list of numbers as input and returns the sum of all even numbers in the list.\n",
        "#answer:\n",
        "\n",
        "def sum_of_evens(numbers):\n",
        "    return sum(num for num in numbers if num % 2 == 0)\n",
        "\n",
        "# Example usage\n",
        "numbers = [1, 2, 3, 4, 5, 6, 7, 8, 9, 10, 11, 12]\n",
        "print(sum_of_evens(numbers))  # Output: 42"
      ],
      "metadata": {
        "id": "_z2AZ1Y9W_3K"
      },
      "execution_count": null,
      "outputs": []
    },
    {
      "cell_type": "code",
      "source": [
        "# 2. Create a Python function that accepts a string and returns the reverse of that string.\n",
        "#answer:\n",
        "\n",
        "def reverse_string(string):\n",
        "    return string[::-1]\n",
        "\n",
        "# Example usage\n",
        "string = \"I Love You !\"\n",
        "print(reverse_string(string))  # Output: \"! uoY evoL I\""
      ],
      "metadata": {
        "id": "xnuiEShZYFz2"
      },
      "execution_count": null,
      "outputs": []
    },
    {
      "cell_type": "code",
      "source": [
        "# 3. Implement a Python function that takes a list of integers and returns a new list containing the squares of each number.\n",
        "#answer:\n",
        "\n",
        "def square_numbers(numbers):\n",
        "    return [num ** 2 for num in numbers]\n",
        "\n",
        "# Example usage:\n",
        "nums = [1, 2, 3]\n",
        "print(square_numbers(nums))  # Output: [1, 4, 9]"
      ],
      "metadata": {
        "id": "98VokzbZbo_0"
      },
      "execution_count": null,
      "outputs": []
    },
    {
      "cell_type": "code",
      "source": [
        "# 4. Write a Python function that checks if a given number is prime or not from 1 to 200.\n",
        "#answer:\n",
        "\n",
        "def is_prime(n):\n",
        "    \"\"\"Check if a number is prime.\"\"\"\n",
        "    if n < 2:\n",
        "        return False\n",
        "    for i in range(2, int(n ** 0.5) + 1):\n",
        "        if n % i == 0:\n",
        "            return False\n",
        "    return True\n",
        "\n",
        "# Testing the function for numbers from 1 to 200\n",
        "for num in range(1, 201):\n",
        "    if is_prime(num):\n",
        "        print(num, \"is prime\")"
      ],
      "metadata": {
        "id": "DLix4ld5cfrT"
      },
      "execution_count": null,
      "outputs": []
    },
    {
      "cell_type": "code",
      "source": [
        "# 5. Create an iterator class in Python that generates the Fibonacci sequence up to a specified number of terms.\n",
        "#answer:\n",
        "\n",
        "class FibonacciIterator:\n",
        "    def __init__(self, num_terms):\n",
        "        self.num_terms = num_terms\n",
        "        self.a, self.b = 0, 1\n",
        "        self.count = 0\n",
        "\n",
        "    def __iter__(self):\n",
        "        return self\n",
        "\n",
        "    def __next__(self):\n",
        "        if self.count >= self.num_terms:\n",
        "            raise StopIteration\n",
        "\n",
        "        if self.count == 0:\n",
        "            self.count += 1\n",
        "            return self.a\n",
        "        elif self.count == 1:\n",
        "            self.count += 1\n",
        "            return self.b\n",
        "\n",
        "        self.a, self.b = self.b, self.a + self.b\n",
        "        self.count += 1\n",
        "        return self.a\n",
        "\n",
        "# Example usage:\n",
        "n = 10  # Number of terms\n",
        "fib_iter = FibonacciIterator(n)\n",
        "for num in fib_iter:\n",
        "    print(num)"
      ],
      "metadata": {
        "id": "i_tpTxY8dKBN"
      },
      "execution_count": null,
      "outputs": []
    },
    {
      "cell_type": "code",
      "source": [
        "# 6. Write a generator function in Python that yields the powers of 2 up to a given exponent.\n",
        "#answer:\n",
        "\n",
        "def powers_of_2(exponent):\n",
        "    for i in range(exponent + 1):\n",
        "        yield 2 ** i\n",
        "\n",
        "# Example usage:\n",
        "for power in powers_of_2(5):\n",
        "    print(power)"
      ],
      "metadata": {
        "id": "M1S3x4JLdzuY"
      },
      "execution_count": null,
      "outputs": []
    },
    {
      "cell_type": "code",
      "source": [
        "# 7. Implement a generator function that reads a file line by line and yields each line as a string.\n",
        "#answer:\n",
        "\n",
        "def read_file_line_by_line(file_path):\n",
        "    \"\"\"Generator function that reads a file line by line and yields each line.\"\"\"\n",
        "    with open(file_path, 'r', encoding='utf-8') as file:\n",
        "        for line in file:\n",
        "            yield line.strip()  # Remove trailing newline characters\n",
        "# Example usage:\n",
        "# for line in read_file_line_by_line('example.txt'):\n",
        "# print(line)"
      ],
      "metadata": {
        "id": "4-TGvtNufP3q"
      },
      "execution_count": 36,
      "outputs": []
    },
    {
      "cell_type": "code",
      "source": [
        "# 8. Use a lambda function in Python to sort a list of tuples based on the second element of each tuple.\n",
        "#answer:\n",
        "\n",
        "# Sample list of tuples\n",
        "data = [(1, 5), (3, 2), (4, 8), (2, 1)]\n",
        "\n",
        "# Sorting based on the second element of each tuple\n",
        "sorted_data = sorted(data, key=lambda x: x[1])\n",
        "\n",
        "# Output the sorted list\n",
        "print(sorted_data)"
      ],
      "metadata": {
        "id": "VvLO-s61fkSu"
      },
      "execution_count": null,
      "outputs": []
    },
    {
      "cell_type": "code",
      "source": [
        "# 9. Write a Python program that uses `map()` to convert a list of temperatures from Celsius to Fahrenheit.\n",
        "#answer:\n",
        "\n",
        "def celsius_to_fahrenheit(celsius):\n",
        "    return (celsius * 9/5) + 32\n",
        "\n",
        "# List of temperatures in Celsius\n",
        "celsius_temps = [0, 10, 20, 30, 40, 100]\n",
        "\n",
        "# Convert to Fahrenheit using map()\n",
        "fahrenheit_temps = list(map(celsius_to_fahrenheit, celsius_temps))\n",
        "\n",
        "# Print the result\n",
        "print(\"Celsius:\", celsius_temps)\n",
        "print(\"Fahrenheit:\", fahrenheit_temps)"
      ],
      "metadata": {
        "id": "1YBPuJ-dgTD6"
      },
      "execution_count": null,
      "outputs": []
    },
    {
      "cell_type": "code",
      "source": [
        "# 10. Create a Python program that uses `filter()` to remove all the vowels from a given string.\n",
        "#answer:\n",
        "\n",
        "def remove_vowels(s):\n",
        "    vowels = \"aeiouAEIOU\"\n",
        "    return \"\".join(filter(lambda ch: ch not in vowels, s))\n",
        "\n",
        "# Example usage\n",
        "input_string = input(\"Enter a string: \")\n",
        "result = remove_vowels(input_string)\n",
        "print(\"String without vowels:\", result)"
      ],
      "metadata": {
        "id": "NrnlIbHkg802"
      },
      "execution_count": null,
      "outputs": []
    }
  ]
}